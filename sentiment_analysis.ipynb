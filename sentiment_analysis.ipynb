{
 "cells": [
  {
   "cell_type": "code",
   "execution_count": 2,
   "metadata": {},
   "outputs": [],
   "source": [
    "import pandas as pd\n",
    "\n",
    "books = pd.read_csv(\"books_with_categories.csv\")\n"
   ]
  },
  {
   "cell_type": "code",
   "execution_count": 4,
   "metadata": {},
   "outputs": [
    {
     "name": "stderr",
     "output_type": "stream",
     "text": [
      "Device set to use cuda:0\n"
     ]
    },
    {
     "data": {
      "text/plain": [
       "[[{'label': 'joy', 'score': 0.9771687984466553},\n",
       "  {'label': 'surprise', 'score': 0.008528684265911579},\n",
       "  {'label': 'neutral', 'score': 0.0057645998895168304},\n",
       "  {'label': 'anger', 'score': 0.004419790115207434},\n",
       "  {'label': 'sadness', 'score': 0.002092393347993493},\n",
       "  {'label': 'disgust', 'score': 0.0016119939973577857},\n",
       "  {'label': 'fear', 'score': 0.0004138521908316761}]]"
      ]
     },
     "execution_count": 4,
     "metadata": {},
     "output_type": "execute_result"
    }
   ],
   "source": [
    "from transformers import pipeline\n",
    "classifier = pipeline(\"text-classification\", \n",
    "                      model=\"j-hartmann/emotion-english-distilroberta-base\", \n",
    "                      return_all_scores=True,\n",
    "                      top_k = None,\n",
    "                      device= 0)\n",
    "classifier(\"I love this!\")"
   ]
  },
  {
   "cell_type": "code",
   "execution_count": 6,
   "metadata": {},
   "outputs": [
    {
     "data": {
      "text/plain": [
       "'A NOVEL THAT READERS and critics have been eagerly anticipating for over a decade, Gilead is an astonishingly imagined story of remarkable lives. John Ames is a preacher, the son of a preacher and the grandson (both maternal and paternal) of preachers. It’s 1956 in Gilead, Iowa, towards the end of the Reverend Ames’s life, and he is absorbed in recording his family’s story, a legacy for the young son he will never see grow up. Haunted by his grandfather’s presence, John tells of the rift between his grandfather and his father: the elder, an angry visionary who fought for the abolitionist cause, and his son, an ardent pacifist. He is troubled, too, by his prodigal namesake, Jack (John Ames) Boughton, his best friend’s lost son who returns to Gilead searching for forgiveness and redemption. Told in John Ames’s joyous, rambling voice that finds beauty, humour and truth in the smallest of life’s details, Gilead is a song of celebration and acceptance of the best and the worst the world has to offer. At its heart is a tale of the sacred bonds between fathers and sons, pitch-perfect in style and story, set to dazzle critics and readers alike.'"
      ]
     },
     "execution_count": 6,
     "metadata": {},
     "output_type": "execute_result"
    }
   ],
   "source": [
    "books[\"description\"][0]"
   ]
  },
  {
   "cell_type": "code",
   "execution_count": 7,
   "metadata": {},
   "outputs": [
    {
     "data": {
      "text/plain": [
       "[[{'label': 'fear', 'score': 0.6548405289649963},\n",
       "  {'label': 'neutral', 'score': 0.1698525995016098},\n",
       "  {'label': 'sadness', 'score': 0.11640887707471848},\n",
       "  {'label': 'surprise', 'score': 0.020700683817267418},\n",
       "  {'label': 'disgust', 'score': 0.019100695848464966},\n",
       "  {'label': 'joy', 'score': 0.01516138669103384},\n",
       "  {'label': 'anger', 'score': 0.003935149405151606}]]"
      ]
     },
     "execution_count": 7,
     "metadata": {},
     "output_type": "execute_result"
    }
   ],
   "source": [
    "classifier(books[\"description\"][0])"
   ]
  },
  {
   "cell_type": "code",
   "execution_count": 8,
   "metadata": {},
   "outputs": [
    {
     "data": {
      "text/plain": [
       "[[{'label': 'surprise', 'score': 0.7296029329299927},\n",
       "  {'label': 'neutral', 'score': 0.14038555324077606},\n",
       "  {'label': 'fear', 'score': 0.06816220283508301},\n",
       "  {'label': 'joy', 'score': 0.0479423925280571},\n",
       "  {'label': 'anger', 'score': 0.00915635097771883},\n",
       "  {'label': 'disgust', 'score': 0.0026284747291356325},\n",
       "  {'label': 'sadness', 'score': 0.0021221598144620657}],\n",
       " [{'label': 'neutral', 'score': 0.4493706226348877},\n",
       "  {'label': 'disgust', 'score': 0.2735918462276459},\n",
       "  {'label': 'joy', 'score': 0.10908296704292297},\n",
       "  {'label': 'sadness', 'score': 0.09362707287073135},\n",
       "  {'label': 'anger', 'score': 0.04047832265496254},\n",
       "  {'label': 'surprise', 'score': 0.026970142498612404},\n",
       "  {'label': 'fear', 'score': 0.006879038643091917}],\n",
       " [{'label': 'neutral', 'score': 0.6462165117263794},\n",
       "  {'label': 'sadness', 'score': 0.2427329570055008},\n",
       "  {'label': 'disgust', 'score': 0.04342258349061012},\n",
       "  {'label': 'surprise', 'score': 0.028300510719418526},\n",
       "  {'label': 'joy', 'score': 0.014211473986506462},\n",
       "  {'label': 'fear', 'score': 0.014084069058299065},\n",
       "  {'label': 'anger', 'score': 0.011031875386834145}],\n",
       " [{'label': 'fear', 'score': 0.9281682968139648},\n",
       "  {'label': 'anger', 'score': 0.03219079598784447},\n",
       "  {'label': 'neutral', 'score': 0.012808685190975666},\n",
       "  {'label': 'sadness', 'score': 0.008756862953305244},\n",
       "  {'label': 'surprise', 'score': 0.00859791785478592},\n",
       "  {'label': 'disgust', 'score': 0.008431832306087017},\n",
       "  {'label': 'joy', 'score': 0.0010455814190208912}],\n",
       " [{'label': 'sadness', 'score': 0.9671575427055359},\n",
       "  {'label': 'neutral', 'score': 0.015104157850146294},\n",
       "  {'label': 'disgust', 'score': 0.006480592768639326},\n",
       "  {'label': 'fear', 'score': 0.005393990781158209},\n",
       "  {'label': 'surprise', 'score': 0.0022869440726935863},\n",
       "  {'label': 'anger', 'score': 0.001842890284024179},\n",
       "  {'label': 'joy', 'score': 0.001733880490064621}],\n",
       " [{'label': 'joy', 'score': 0.9327970147132874},\n",
       "  {'label': 'disgust', 'score': 0.0377177968621254},\n",
       "  {'label': 'neutral', 'score': 0.01589193567633629},\n",
       "  {'label': 'sadness', 'score': 0.00644455011934042},\n",
       "  {'label': 'anger', 'score': 0.005025019869208336},\n",
       "  {'label': 'surprise', 'score': 0.0015812077326700091},\n",
       "  {'label': 'fear', 'score': 0.0005423104739747941}],\n",
       " [{'label': 'joy', 'score': 0.6528702974319458},\n",
       "  {'label': 'neutral', 'score': 0.25427505373954773},\n",
       "  {'label': 'surprise', 'score': 0.06808310002088547},\n",
       "  {'label': 'sadness', 'score': 0.009908992797136307},\n",
       "  {'label': 'disgust', 'score': 0.006512211170047522},\n",
       "  {'label': 'anger', 'score': 0.004821314010769129},\n",
       "  {'label': 'fear', 'score': 0.0035290182568132877}],\n",
       " [{'label': 'neutral', 'score': 0.5494768619537354},\n",
       "  {'label': 'sadness', 'score': 0.11169017106294632},\n",
       "  {'label': 'disgust', 'score': 0.10400664806365967},\n",
       "  {'label': 'surprise', 'score': 0.07876549661159515},\n",
       "  {'label': 'anger', 'score': 0.06413362175226212},\n",
       "  {'label': 'fear', 'score': 0.05136280506849289},\n",
       "  {'label': 'joy', 'score': 0.0405643992125988}]]"
      ]
     },
     "execution_count": 8,
     "metadata": {},
     "output_type": "execute_result"
    }
   ],
   "source": [
    "classifier(books[\"description\"][0].split(\".\"))"
   ]
  },
  {
   "cell_type": "code",
   "execution_count": 10,
   "metadata": {},
   "outputs": [],
   "source": [
    "sentence = books[\"description\"][0].split(\".\")\n",
    "predictions = classifier(sentence)"
   ]
  },
  {
   "cell_type": "code",
   "execution_count": 11,
   "metadata": {},
   "outputs": [
    {
     "data": {
      "text/plain": [
       "'A NOVEL THAT READERS and critics have been eagerly anticipating for over a decade, Gilead is an astonishingly imagined story of remarkable lives'"
      ]
     },
     "execution_count": 11,
     "metadata": {},
     "output_type": "execute_result"
    }
   ],
   "source": [
    "sentence[0]"
   ]
  },
  {
   "cell_type": "code",
   "execution_count": 12,
   "metadata": {},
   "outputs": [
    {
     "data": {
      "text/plain": [
       "[{'label': 'surprise', 'score': 0.7296029329299927},\n",
       " {'label': 'neutral', 'score': 0.14038555324077606},\n",
       " {'label': 'fear', 'score': 0.06816220283508301},\n",
       " {'label': 'joy', 'score': 0.0479423925280571},\n",
       " {'label': 'anger', 'score': 0.00915635097771883},\n",
       " {'label': 'disgust', 'score': 0.0026284747291356325},\n",
       " {'label': 'sadness', 'score': 0.0021221598144620657}]"
      ]
     },
     "execution_count": 12,
     "metadata": {},
     "output_type": "execute_result"
    }
   ],
   "source": [
    "predictions[0]"
   ]
  },
  {
   "cell_type": "code",
   "execution_count": 17,
   "metadata": {},
   "outputs": [
    {
     "data": {
      "text/plain": [
       "' Told in John Ames’s joyous, rambling voice that finds beauty, humour and truth in the smallest of life’s details, Gilead is a song of celebration and acceptance of the best and the worst the world has to offer'"
      ]
     },
     "execution_count": 17,
     "metadata": {},
     "output_type": "execute_result"
    }
   ],
   "source": [
    "sentence[5]"
   ]
  },
  {
   "cell_type": "code",
   "execution_count": 18,
   "metadata": {},
   "outputs": [
    {
     "data": {
      "text/plain": [
       "[{'label': 'joy', 'score': 0.9327970147132874},\n",
       " {'label': 'disgust', 'score': 0.0377177968621254},\n",
       " {'label': 'neutral', 'score': 0.01589193567633629},\n",
       " {'label': 'sadness', 'score': 0.00644455011934042},\n",
       " {'label': 'anger', 'score': 0.005025019869208336},\n",
       " {'label': 'surprise', 'score': 0.0015812077326700091},\n",
       " {'label': 'fear', 'score': 0.0005423104739747941}]"
      ]
     },
     "execution_count": 18,
     "metadata": {},
     "output_type": "execute_result"
    }
   ],
   "source": [
    "predictions[5]"
   ]
  },
  {
   "cell_type": "code",
   "execution_count": 19,
   "metadata": {},
   "outputs": [
    {
     "data": {
      "text/plain": [
       "[{'label': 'anger', 'score': 0.00915635097771883},\n",
       " {'label': 'disgust', 'score': 0.0026284747291356325},\n",
       " {'label': 'fear', 'score': 0.06816220283508301},\n",
       " {'label': 'joy', 'score': 0.0479423925280571},\n",
       " {'label': 'neutral', 'score': 0.14038555324077606},\n",
       " {'label': 'sadness', 'score': 0.0021221598144620657},\n",
       " {'label': 'surprise', 'score': 0.7296029329299927}]"
      ]
     },
     "execution_count": 19,
     "metadata": {},
     "output_type": "execute_result"
    }
   ],
   "source": [
    "sorted(predictions[0], key=lambda x: x[\"label\"])"
   ]
  },
  {
   "cell_type": "code",
   "execution_count": 22,
   "metadata": {},
   "outputs": [],
   "source": [
    "import numpy as np\n",
    "\n",
    "emotion_labels = [\"anger\", \"disgust\", \"fear\", \"joy\", \"sadness\", \"surprise\", \"neutral\"]\n",
    "isbn = []\n",
    "emotion_scores = {label: [] for label in emotion_labels}\n",
    "\n",
    "def calculate_max_emotion_scores(predictions):\n",
    "    per_emotion_scores = {label: [] for label in emotion_labels}\n",
    "    for prediction in predictions:\n",
    "        sorted_predictions = sorted(prediction, key=lambda x: x[\"label\"])\n",
    "        for index,  label in enumerate(emotion_labels):\n",
    "            per_emotion_scores[label].append(sorted_predictions[index][\"score\"])\n",
    "    return {label: np.max(scores) for label, scores in per_emotion_scores.items()}\n",
    "\n"
   ]
  },
  {
   "cell_type": "code",
   "execution_count": 23,
   "metadata": {},
   "outputs": [
    {
     "name": "stderr",
     "output_type": "stream",
     "text": [
      "You seem to be using the pipelines sequentially on GPU. In order to maximize efficiency please use a dataset\n"
     ]
    }
   ],
   "source": [
    "for i in range(10):\n",
    "    isbn.append(books[\"isbn13\"][i])\n",
    "    sentences = books[\"description\"][i].split(\".\")\n",
    "    predictions = classifier(sentences)\n",
    "    max_scores = calculate_max_emotion_scores(predictions)\n",
    "    for label in emotion_labels:\n",
    "        emotion_scores[label].append(max_scores[label])\n"
   ]
  },
  {
   "cell_type": "code",
   "execution_count": null,
   "metadata": {},
   "outputs": [
    {
     "data": {
      "text/plain": [
       "[0.9327970147132874,\n",
       " 0.7044219374656677,\n",
       " 0.7672367691993713,\n",
       " 0.2518811821937561,\n",
       " 0.0405643992125988,\n",
       " 0.043375857174396515,\n",
       " 0.8725654482841492,\n",
       " 0.0405643992125988,\n",
       " 0.0405643992125988,\n",
       " 0.0405643992125988]"
      ]
     },
     "execution_count": 25,
     "metadata": {},
     "output_type": "execute_result"
    }
   ],
   "source": [
    "emotion_scores"
   ]
  },
  {
   "cell_type": "code",
   "execution_count": 26,
   "metadata": {},
   "outputs": [
    {
     "name": "stderr",
     "output_type": "stream",
     "text": [
      "100%|██████████| 5197/5197 [03:13<00:00, 26.86it/s]\n"
     ]
    }
   ],
   "source": [
    "from tqdm import tqdm\n",
    "\n",
    "emotion_labels = [\"anger\", \"disgust\", \"fear\", \"joy\", \"sadness\", \"surprise\", \"neutral\"]\n",
    "isbn = []\n",
    "emotion_scores = {label: [] for label in emotion_labels}\n",
    "\n",
    "for i in tqdm(range(len(books))):\n",
    "    isbn.append(books[\"isbn13\"][i])\n",
    "    sentences = books[\"description\"][i].split(\".\")\n",
    "    predictions = classifier(sentences)\n",
    "    max_scores = calculate_max_emotion_scores(predictions)\n",
    "    for label in emotion_labels:\n",
    "        emotion_scores[label].append(max_scores[label])"
   ]
  },
  {
   "cell_type": "code",
   "execution_count": 27,
   "metadata": {},
   "outputs": [],
   "source": [
    "emotions_df = pd.DataFrame(emotion_scores)\n",
    "emotions_df[\"isbn13\"] =  isbn"
   ]
  },
  {
   "cell_type": "code",
   "execution_count": 30,
   "metadata": {},
   "outputs": [
    {
     "data": {
      "text/html": [
       "<div>\n",
       "<style scoped>\n",
       "    .dataframe tbody tr th:only-of-type {\n",
       "        vertical-align: middle;\n",
       "    }\n",
       "\n",
       "    .dataframe tbody tr th {\n",
       "        vertical-align: top;\n",
       "    }\n",
       "\n",
       "    .dataframe thead th {\n",
       "        text-align: right;\n",
       "    }\n",
       "</style>\n",
       "<table border=\"1\" class=\"dataframe\">\n",
       "  <thead>\n",
       "    <tr style=\"text-align: right;\">\n",
       "      <th></th>\n",
       "      <th>anger</th>\n",
       "      <th>disgust</th>\n",
       "      <th>fear</th>\n",
       "      <th>joy</th>\n",
       "      <th>sadness</th>\n",
       "      <th>surprise</th>\n",
       "      <th>neutral</th>\n",
       "      <th>isbn13</th>\n",
       "    </tr>\n",
       "  </thead>\n",
       "  <tbody>\n",
       "    <tr>\n",
       "      <th>0</th>\n",
       "      <td>0.064134</td>\n",
       "      <td>0.273592</td>\n",
       "      <td>0.928168</td>\n",
       "      <td>0.932797</td>\n",
       "      <td>0.646217</td>\n",
       "      <td>0.967158</td>\n",
       "      <td>0.729603</td>\n",
       "      <td>9780002005883</td>\n",
       "    </tr>\n",
       "    <tr>\n",
       "      <th>1</th>\n",
       "      <td>0.612618</td>\n",
       "      <td>0.348285</td>\n",
       "      <td>0.942528</td>\n",
       "      <td>0.704422</td>\n",
       "      <td>0.887940</td>\n",
       "      <td>0.111690</td>\n",
       "      <td>0.252545</td>\n",
       "      <td>9780002261982</td>\n",
       "    </tr>\n",
       "    <tr>\n",
       "      <th>2</th>\n",
       "      <td>0.064134</td>\n",
       "      <td>0.104007</td>\n",
       "      <td>0.972321</td>\n",
       "      <td>0.767237</td>\n",
       "      <td>0.549477</td>\n",
       "      <td>0.111690</td>\n",
       "      <td>0.078765</td>\n",
       "      <td>9780006178736</td>\n",
       "    </tr>\n",
       "    <tr>\n",
       "      <th>3</th>\n",
       "      <td>0.351484</td>\n",
       "      <td>0.150723</td>\n",
       "      <td>0.360707</td>\n",
       "      <td>0.251881</td>\n",
       "      <td>0.732685</td>\n",
       "      <td>0.111690</td>\n",
       "      <td>0.078765</td>\n",
       "      <td>9780006280897</td>\n",
       "    </tr>\n",
       "    <tr>\n",
       "      <th>4</th>\n",
       "      <td>0.081412</td>\n",
       "      <td>0.184495</td>\n",
       "      <td>0.095043</td>\n",
       "      <td>0.040564</td>\n",
       "      <td>0.884390</td>\n",
       "      <td>0.475881</td>\n",
       "      <td>0.078765</td>\n",
       "      <td>9780006280934</td>\n",
       "    </tr>\n",
       "    <tr>\n",
       "      <th>5</th>\n",
       "      <td>0.232225</td>\n",
       "      <td>0.727175</td>\n",
       "      <td>0.051363</td>\n",
       "      <td>0.043376</td>\n",
       "      <td>0.621393</td>\n",
       "      <td>0.111690</td>\n",
       "      <td>0.271903</td>\n",
       "      <td>9780006380832</td>\n",
       "    </tr>\n",
       "    <tr>\n",
       "      <th>6</th>\n",
       "      <td>0.538185</td>\n",
       "      <td>0.155855</td>\n",
       "      <td>0.747428</td>\n",
       "      <td>0.872565</td>\n",
       "      <td>0.712195</td>\n",
       "      <td>0.408000</td>\n",
       "      <td>0.078765</td>\n",
       "      <td>9780006470229</td>\n",
       "    </tr>\n",
       "    <tr>\n",
       "      <th>7</th>\n",
       "      <td>0.064134</td>\n",
       "      <td>0.104007</td>\n",
       "      <td>0.404496</td>\n",
       "      <td>0.040564</td>\n",
       "      <td>0.549477</td>\n",
       "      <td>0.820283</td>\n",
       "      <td>0.234487</td>\n",
       "      <td>9780006472612</td>\n",
       "    </tr>\n",
       "    <tr>\n",
       "      <th>8</th>\n",
       "      <td>0.300670</td>\n",
       "      <td>0.279481</td>\n",
       "      <td>0.915524</td>\n",
       "      <td>0.040564</td>\n",
       "      <td>0.840289</td>\n",
       "      <td>0.354460</td>\n",
       "      <td>0.135614</td>\n",
       "      <td>9780006482079</td>\n",
       "    </tr>\n",
       "    <tr>\n",
       "      <th>9</th>\n",
       "      <td>0.064134</td>\n",
       "      <td>0.177928</td>\n",
       "      <td>0.051363</td>\n",
       "      <td>0.040564</td>\n",
       "      <td>0.860372</td>\n",
       "      <td>0.111690</td>\n",
       "      <td>0.078765</td>\n",
       "      <td>9780006483014</td>\n",
       "    </tr>\n",
       "  </tbody>\n",
       "</table>\n",
       "</div>"
      ],
      "text/plain": [
       "      anger   disgust      fear       joy   sadness  surprise   neutral  \\\n",
       "0  0.064134  0.273592  0.928168  0.932797  0.646217  0.967158  0.729603   \n",
       "1  0.612618  0.348285  0.942528  0.704422  0.887940  0.111690  0.252545   \n",
       "2  0.064134  0.104007  0.972321  0.767237  0.549477  0.111690  0.078765   \n",
       "3  0.351484  0.150723  0.360707  0.251881  0.732685  0.111690  0.078765   \n",
       "4  0.081412  0.184495  0.095043  0.040564  0.884390  0.475881  0.078765   \n",
       "5  0.232225  0.727175  0.051363  0.043376  0.621393  0.111690  0.271903   \n",
       "6  0.538185  0.155855  0.747428  0.872565  0.712195  0.408000  0.078765   \n",
       "7  0.064134  0.104007  0.404496  0.040564  0.549477  0.820283  0.234487   \n",
       "8  0.300670  0.279481  0.915524  0.040564  0.840289  0.354460  0.135614   \n",
       "9  0.064134  0.177928  0.051363  0.040564  0.860372  0.111690  0.078765   \n",
       "\n",
       "          isbn13  \n",
       "0  9780002005883  \n",
       "1  9780002261982  \n",
       "2  9780006178736  \n",
       "3  9780006280897  \n",
       "4  9780006280934  \n",
       "5  9780006380832  \n",
       "6  9780006470229  \n",
       "7  9780006472612  \n",
       "8  9780006482079  \n",
       "9  9780006483014  "
      ]
     },
     "execution_count": 30,
     "metadata": {},
     "output_type": "execute_result"
    }
   ],
   "source": [
    "emotions_df.head(10)"
   ]
  },
  {
   "cell_type": "code",
   "execution_count": 31,
   "metadata": {},
   "outputs": [],
   "source": [
    "books = pd.merge(books, emotions_df, on = \"isbn13\")"
   ]
  },
  {
   "cell_type": "code",
   "execution_count": 32,
   "metadata": {},
   "outputs": [
    {
     "data": {
      "text/html": [
       "<div>\n",
       "<style scoped>\n",
       "    .dataframe tbody tr th:only-of-type {\n",
       "        vertical-align: middle;\n",
       "    }\n",
       "\n",
       "    .dataframe tbody tr th {\n",
       "        vertical-align: top;\n",
       "    }\n",
       "\n",
       "    .dataframe thead th {\n",
       "        text-align: right;\n",
       "    }\n",
       "</style>\n",
       "<table border=\"1\" class=\"dataframe\">\n",
       "  <thead>\n",
       "    <tr style=\"text-align: right;\">\n",
       "      <th></th>\n",
       "      <th>isbn13</th>\n",
       "      <th>isbn10</th>\n",
       "      <th>title</th>\n",
       "      <th>authors</th>\n",
       "      <th>categories</th>\n",
       "      <th>thumbnail</th>\n",
       "      <th>description</th>\n",
       "      <th>published_year</th>\n",
       "      <th>average_rating</th>\n",
       "      <th>num_pages</th>\n",
       "      <th>...</th>\n",
       "      <th>title_and_subtitle</th>\n",
       "      <th>tagged_description</th>\n",
       "      <th>simple_categories</th>\n",
       "      <th>anger</th>\n",
       "      <th>disgust</th>\n",
       "      <th>fear</th>\n",
       "      <th>joy</th>\n",
       "      <th>sadness</th>\n",
       "      <th>surprise</th>\n",
       "      <th>neutral</th>\n",
       "    </tr>\n",
       "  </thead>\n",
       "  <tbody>\n",
       "    <tr>\n",
       "      <th>0</th>\n",
       "      <td>9780002005883</td>\n",
       "      <td>0002005883</td>\n",
       "      <td>Gilead</td>\n",
       "      <td>Marilynne Robinson</td>\n",
       "      <td>Fiction</td>\n",
       "      <td>http://books.google.com/books/content?id=KQZCP...</td>\n",
       "      <td>A NOVEL THAT READERS and critics have been eag...</td>\n",
       "      <td>2004.0</td>\n",
       "      <td>3.85</td>\n",
       "      <td>247.0</td>\n",
       "      <td>...</td>\n",
       "      <td>Gilead</td>\n",
       "      <td>9780002005883 A NOVEL THAT READERS and critics...</td>\n",
       "      <td>Fiction</td>\n",
       "      <td>0.064134</td>\n",
       "      <td>0.273592</td>\n",
       "      <td>0.928168</td>\n",
       "      <td>0.932797</td>\n",
       "      <td>0.646217</td>\n",
       "      <td>0.967158</td>\n",
       "      <td>0.729603</td>\n",
       "    </tr>\n",
       "    <tr>\n",
       "      <th>1</th>\n",
       "      <td>9780002261982</td>\n",
       "      <td>0002261987</td>\n",
       "      <td>Spider's Web</td>\n",
       "      <td>Charles Osborne;Agatha Christie</td>\n",
       "      <td>Detective and mystery stories</td>\n",
       "      <td>http://books.google.com/books/content?id=gA5GP...</td>\n",
       "      <td>A new 'Christie for Christmas' -- a full-lengt...</td>\n",
       "      <td>2000.0</td>\n",
       "      <td>3.83</td>\n",
       "      <td>241.0</td>\n",
       "      <td>...</td>\n",
       "      <td>Spider's Web: A Novel</td>\n",
       "      <td>9780002261982 A new 'Christie for Christmas' -...</td>\n",
       "      <td>Fiction</td>\n",
       "      <td>0.612618</td>\n",
       "      <td>0.348285</td>\n",
       "      <td>0.942528</td>\n",
       "      <td>0.704422</td>\n",
       "      <td>0.887940</td>\n",
       "      <td>0.111690</td>\n",
       "      <td>0.252545</td>\n",
       "    </tr>\n",
       "    <tr>\n",
       "      <th>2</th>\n",
       "      <td>9780006178736</td>\n",
       "      <td>0006178731</td>\n",
       "      <td>Rage of angels</td>\n",
       "      <td>Sidney Sheldon</td>\n",
       "      <td>Fiction</td>\n",
       "      <td>http://books.google.com/books/content?id=FKo2T...</td>\n",
       "      <td>A memorable, mesmerizing heroine Jennifer -- b...</td>\n",
       "      <td>1993.0</td>\n",
       "      <td>3.93</td>\n",
       "      <td>512.0</td>\n",
       "      <td>...</td>\n",
       "      <td>Rage of angels</td>\n",
       "      <td>9780006178736 A memorable, mesmerizing heroine...</td>\n",
       "      <td>Fiction</td>\n",
       "      <td>0.064134</td>\n",
       "      <td>0.104007</td>\n",
       "      <td>0.972321</td>\n",
       "      <td>0.767237</td>\n",
       "      <td>0.549477</td>\n",
       "      <td>0.111690</td>\n",
       "      <td>0.078765</td>\n",
       "    </tr>\n",
       "    <tr>\n",
       "      <th>3</th>\n",
       "      <td>9780006280897</td>\n",
       "      <td>0006280897</td>\n",
       "      <td>The Four Loves</td>\n",
       "      <td>Clive Staples Lewis</td>\n",
       "      <td>Christian life</td>\n",
       "      <td>http://books.google.com/books/content?id=XhQ5X...</td>\n",
       "      <td>Lewis' work on the nature of love divides love...</td>\n",
       "      <td>2002.0</td>\n",
       "      <td>4.15</td>\n",
       "      <td>170.0</td>\n",
       "      <td>...</td>\n",
       "      <td>The Four Loves</td>\n",
       "      <td>9780006280897 Lewis' work on the nature of lov...</td>\n",
       "      <td>Nonfiction</td>\n",
       "      <td>0.351484</td>\n",
       "      <td>0.150723</td>\n",
       "      <td>0.360707</td>\n",
       "      <td>0.251881</td>\n",
       "      <td>0.732685</td>\n",
       "      <td>0.111690</td>\n",
       "      <td>0.078765</td>\n",
       "    </tr>\n",
       "    <tr>\n",
       "      <th>4</th>\n",
       "      <td>9780006280934</td>\n",
       "      <td>0006280935</td>\n",
       "      <td>The Problem of Pain</td>\n",
       "      <td>Clive Staples Lewis</td>\n",
       "      <td>Christian life</td>\n",
       "      <td>http://books.google.com/books/content?id=Kk-uV...</td>\n",
       "      <td>\"In The Problem of Pain, C.S. Lewis, one of th...</td>\n",
       "      <td>2002.0</td>\n",
       "      <td>4.09</td>\n",
       "      <td>176.0</td>\n",
       "      <td>...</td>\n",
       "      <td>The Problem of Pain</td>\n",
       "      <td>9780006280934 \"In The Problem of Pain, C.S. Le...</td>\n",
       "      <td>Nonfiction</td>\n",
       "      <td>0.081412</td>\n",
       "      <td>0.184495</td>\n",
       "      <td>0.095043</td>\n",
       "      <td>0.040564</td>\n",
       "      <td>0.884390</td>\n",
       "      <td>0.475881</td>\n",
       "      <td>0.078765</td>\n",
       "    </tr>\n",
       "    <tr>\n",
       "      <th>5</th>\n",
       "      <td>9780006380832</td>\n",
       "      <td>0006380832</td>\n",
       "      <td>Empires of the Monsoon</td>\n",
       "      <td>Richard Hall</td>\n",
       "      <td>Africa, East</td>\n",
       "      <td>http://books.google.com/books/content?id=MuPEQ...</td>\n",
       "      <td>Until Vasco da Gama discovered the sea-route t...</td>\n",
       "      <td>1998.0</td>\n",
       "      <td>4.41</td>\n",
       "      <td>608.0</td>\n",
       "      <td>...</td>\n",
       "      <td>Empires of the Monsoon: A History of the India...</td>\n",
       "      <td>9780006380832 Until Vasco da Gama discovered t...</td>\n",
       "      <td>Nonfiction</td>\n",
       "      <td>0.232225</td>\n",
       "      <td>0.727175</td>\n",
       "      <td>0.051363</td>\n",
       "      <td>0.043376</td>\n",
       "      <td>0.621393</td>\n",
       "      <td>0.111690</td>\n",
       "      <td>0.271903</td>\n",
       "    </tr>\n",
       "    <tr>\n",
       "      <th>6</th>\n",
       "      <td>9780006470229</td>\n",
       "      <td>000647022X</td>\n",
       "      <td>The Gap Into Madness</td>\n",
       "      <td>Stephen R. Donaldson</td>\n",
       "      <td>Hyland, Morn (Fictitious character)</td>\n",
       "      <td>http://books.google.com/books/content?id=4oXav...</td>\n",
       "      <td>A new-cover reissue of the fourth book in the ...</td>\n",
       "      <td>1994.0</td>\n",
       "      <td>4.15</td>\n",
       "      <td>743.0</td>\n",
       "      <td>...</td>\n",
       "      <td>The Gap Into Madness: Chaos and Order</td>\n",
       "      <td>9780006470229 A new-cover reissue of the fourt...</td>\n",
       "      <td>Fiction</td>\n",
       "      <td>0.538185</td>\n",
       "      <td>0.155855</td>\n",
       "      <td>0.747428</td>\n",
       "      <td>0.872565</td>\n",
       "      <td>0.712195</td>\n",
       "      <td>0.408000</td>\n",
       "      <td>0.078765</td>\n",
       "    </tr>\n",
       "    <tr>\n",
       "      <th>7</th>\n",
       "      <td>9780006472612</td>\n",
       "      <td>0006472613</td>\n",
       "      <td>Master of the Game</td>\n",
       "      <td>Sidney Sheldon</td>\n",
       "      <td>Adventure stories</td>\n",
       "      <td>http://books.google.com/books/content?id=TkTYp...</td>\n",
       "      <td>Kate Blackwell is an enigma and one of the mos...</td>\n",
       "      <td>1982.0</td>\n",
       "      <td>4.11</td>\n",
       "      <td>489.0</td>\n",
       "      <td>...</td>\n",
       "      <td>Master of the Game</td>\n",
       "      <td>9780006472612 Kate Blackwell is an enigma and ...</td>\n",
       "      <td>Nonfiction</td>\n",
       "      <td>0.064134</td>\n",
       "      <td>0.104007</td>\n",
       "      <td>0.404496</td>\n",
       "      <td>0.040564</td>\n",
       "      <td>0.549477</td>\n",
       "      <td>0.820283</td>\n",
       "      <td>0.234487</td>\n",
       "    </tr>\n",
       "    <tr>\n",
       "      <th>8</th>\n",
       "      <td>9780006482079</td>\n",
       "      <td>0006482074</td>\n",
       "      <td>Warhost of Vastmark</td>\n",
       "      <td>Janny Wurts</td>\n",
       "      <td>Fiction</td>\n",
       "      <td>http://books.google.com/books/content?id=uOL0f...</td>\n",
       "      <td>Tricked once more by his wily half-brother, Ly...</td>\n",
       "      <td>1995.0</td>\n",
       "      <td>4.03</td>\n",
       "      <td>522.0</td>\n",
       "      <td>...</td>\n",
       "      <td>Warhost of Vastmark</td>\n",
       "      <td>9780006482079 Tricked once more by his wily ha...</td>\n",
       "      <td>Fiction</td>\n",
       "      <td>0.300670</td>\n",
       "      <td>0.279481</td>\n",
       "      <td>0.915524</td>\n",
       "      <td>0.040564</td>\n",
       "      <td>0.840289</td>\n",
       "      <td>0.354460</td>\n",
       "      <td>0.135614</td>\n",
       "    </tr>\n",
       "    <tr>\n",
       "      <th>9</th>\n",
       "      <td>9780006483014</td>\n",
       "      <td>0006483011</td>\n",
       "      <td>The Once and Future King</td>\n",
       "      <td>Terence Hanbury White</td>\n",
       "      <td>Arthurian romances</td>\n",
       "      <td>http://books.google.com/books/content?id=Jx6Bv...</td>\n",
       "      <td>An omnibus volume of the author's complete sto...</td>\n",
       "      <td>1996.0</td>\n",
       "      <td>4.04</td>\n",
       "      <td>823.0</td>\n",
       "      <td>...</td>\n",
       "      <td>The Once and Future King</td>\n",
       "      <td>9780006483014 An omnibus volume of the author'...</td>\n",
       "      <td>Fiction</td>\n",
       "      <td>0.064134</td>\n",
       "      <td>0.177928</td>\n",
       "      <td>0.051363</td>\n",
       "      <td>0.040564</td>\n",
       "      <td>0.860372</td>\n",
       "      <td>0.111690</td>\n",
       "      <td>0.078765</td>\n",
       "    </tr>\n",
       "  </tbody>\n",
       "</table>\n",
       "<p>10 rows × 21 columns</p>\n",
       "</div>"
      ],
      "text/plain": [
       "          isbn13      isbn10                     title  \\\n",
       "0  9780002005883  0002005883                    Gilead   \n",
       "1  9780002261982  0002261987              Spider's Web   \n",
       "2  9780006178736  0006178731            Rage of angels   \n",
       "3  9780006280897  0006280897            The Four Loves   \n",
       "4  9780006280934  0006280935       The Problem of Pain   \n",
       "5  9780006380832  0006380832    Empires of the Monsoon   \n",
       "6  9780006470229  000647022X      The Gap Into Madness   \n",
       "7  9780006472612  0006472613        Master of the Game   \n",
       "8  9780006482079  0006482074       Warhost of Vastmark   \n",
       "9  9780006483014  0006483011  The Once and Future King   \n",
       "\n",
       "                           authors                           categories  \\\n",
       "0               Marilynne Robinson                              Fiction   \n",
       "1  Charles Osborne;Agatha Christie        Detective and mystery stories   \n",
       "2                   Sidney Sheldon                              Fiction   \n",
       "3              Clive Staples Lewis                       Christian life   \n",
       "4              Clive Staples Lewis                       Christian life   \n",
       "5                     Richard Hall                         Africa, East   \n",
       "6             Stephen R. Donaldson  Hyland, Morn (Fictitious character)   \n",
       "7                   Sidney Sheldon                    Adventure stories   \n",
       "8                      Janny Wurts                              Fiction   \n",
       "9            Terence Hanbury White                   Arthurian romances   \n",
       "\n",
       "                                           thumbnail  \\\n",
       "0  http://books.google.com/books/content?id=KQZCP...   \n",
       "1  http://books.google.com/books/content?id=gA5GP...   \n",
       "2  http://books.google.com/books/content?id=FKo2T...   \n",
       "3  http://books.google.com/books/content?id=XhQ5X...   \n",
       "4  http://books.google.com/books/content?id=Kk-uV...   \n",
       "5  http://books.google.com/books/content?id=MuPEQ...   \n",
       "6  http://books.google.com/books/content?id=4oXav...   \n",
       "7  http://books.google.com/books/content?id=TkTYp...   \n",
       "8  http://books.google.com/books/content?id=uOL0f...   \n",
       "9  http://books.google.com/books/content?id=Jx6Bv...   \n",
       "\n",
       "                                         description  published_year  \\\n",
       "0  A NOVEL THAT READERS and critics have been eag...          2004.0   \n",
       "1  A new 'Christie for Christmas' -- a full-lengt...          2000.0   \n",
       "2  A memorable, mesmerizing heroine Jennifer -- b...          1993.0   \n",
       "3  Lewis' work on the nature of love divides love...          2002.0   \n",
       "4  \"In The Problem of Pain, C.S. Lewis, one of th...          2002.0   \n",
       "5  Until Vasco da Gama discovered the sea-route t...          1998.0   \n",
       "6  A new-cover reissue of the fourth book in the ...          1994.0   \n",
       "7  Kate Blackwell is an enigma and one of the mos...          1982.0   \n",
       "8  Tricked once more by his wily half-brother, Ly...          1995.0   \n",
       "9  An omnibus volume of the author's complete sto...          1996.0   \n",
       "\n",
       "   average_rating  num_pages  ...  \\\n",
       "0            3.85      247.0  ...   \n",
       "1            3.83      241.0  ...   \n",
       "2            3.93      512.0  ...   \n",
       "3            4.15      170.0  ...   \n",
       "4            4.09      176.0  ...   \n",
       "5            4.41      608.0  ...   \n",
       "6            4.15      743.0  ...   \n",
       "7            4.11      489.0  ...   \n",
       "8            4.03      522.0  ...   \n",
       "9            4.04      823.0  ...   \n",
       "\n",
       "                                  title_and_subtitle  \\\n",
       "0                                             Gilead   \n",
       "1                              Spider's Web: A Novel   \n",
       "2                                     Rage of angels   \n",
       "3                                     The Four Loves   \n",
       "4                                The Problem of Pain   \n",
       "5  Empires of the Monsoon: A History of the India...   \n",
       "6              The Gap Into Madness: Chaos and Order   \n",
       "7                                 Master of the Game   \n",
       "8                                Warhost of Vastmark   \n",
       "9                           The Once and Future King   \n",
       "\n",
       "                                  tagged_description simple_categories  \\\n",
       "0  9780002005883 A NOVEL THAT READERS and critics...           Fiction   \n",
       "1  9780002261982 A new 'Christie for Christmas' -...           Fiction   \n",
       "2  9780006178736 A memorable, mesmerizing heroine...           Fiction   \n",
       "3  9780006280897 Lewis' work on the nature of lov...        Nonfiction   \n",
       "4  9780006280934 \"In The Problem of Pain, C.S. Le...        Nonfiction   \n",
       "5  9780006380832 Until Vasco da Gama discovered t...        Nonfiction   \n",
       "6  9780006470229 A new-cover reissue of the fourt...           Fiction   \n",
       "7  9780006472612 Kate Blackwell is an enigma and ...        Nonfiction   \n",
       "8  9780006482079 Tricked once more by his wily ha...           Fiction   \n",
       "9  9780006483014 An omnibus volume of the author'...           Fiction   \n",
       "\n",
       "      anger   disgust      fear       joy   sadness  surprise   neutral  \n",
       "0  0.064134  0.273592  0.928168  0.932797  0.646217  0.967158  0.729603  \n",
       "1  0.612618  0.348285  0.942528  0.704422  0.887940  0.111690  0.252545  \n",
       "2  0.064134  0.104007  0.972321  0.767237  0.549477  0.111690  0.078765  \n",
       "3  0.351484  0.150723  0.360707  0.251881  0.732685  0.111690  0.078765  \n",
       "4  0.081412  0.184495  0.095043  0.040564  0.884390  0.475881  0.078765  \n",
       "5  0.232225  0.727175  0.051363  0.043376  0.621393  0.111690  0.271903  \n",
       "6  0.538185  0.155855  0.747428  0.872565  0.712195  0.408000  0.078765  \n",
       "7  0.064134  0.104007  0.404496  0.040564  0.549477  0.820283  0.234487  \n",
       "8  0.300670  0.279481  0.915524  0.040564  0.840289  0.354460  0.135614  \n",
       "9  0.064134  0.177928  0.051363  0.040564  0.860372  0.111690  0.078765  \n",
       "\n",
       "[10 rows x 21 columns]"
      ]
     },
     "execution_count": 32,
     "metadata": {},
     "output_type": "execute_result"
    }
   ],
   "source": [
    "books.head(10)"
   ]
  },
  {
   "cell_type": "code",
   "execution_count": null,
   "metadata": {},
   "outputs": [
    {
     "data": {
      "image/png": "[encoded data removed]",
      "text/plain": [
       "<Figure size 1400x1000 with 7 Axes>"
      ]
     },
     "metadata": {},
     "output_type": "display_data"
    }
   ],
   "source": [
    "import matplotlib.pyplot as plt\n",
    "import seaborn as sns\n",
    "\n",
    "\n",
    "plt.figure(figsize=(14, 10))\n",
    "\n",
    "\n",
    "emotions = ['anger', 'disgust', 'fear', 'joy', 'sadness', 'surprise', 'neutral']\n",
    "\n",
    "\n",
    "for i, emotion in enumerate(emotions, 1):\n",
    "    plt.subplot(3, 3, i)\n",
    "    sns.histplot(books[emotion], kde=True, bins=10, color='skyblue')\n",
    "    plt.title(f'Distribution of {emotion.capitalize()}')\n",
    "    plt.xlabel('Probability')\n",
    "    plt.ylabel('Frequency')\n",
    "\n",
    "plt.tight_layout()\n",
    "plt.show()"
   ]
  },
  {
   "cell_type": "code",
   "execution_count": 34,
   "metadata": {},
   "outputs": [],
   "source": [
    "books.to_csv(\"books_with_emotions.csv\", index = False)"
   ]
  },
  {
   "cell_type": "code",
   "execution_count": null,
   "metadata": {},
   "outputs": [],
   "source": []
  }
 ],
 "metadata": {
  "kernelspec": {
   "display_name": "venv",
   "language": "python",
   "name": "python3"
  },
  "language_info": {
   "codemirror_mode": {
    "name": "ipython",
    "version": 3
   },
   "file_extension": ".py",
   "mimetype": "text/x-python",
   "name": "python",
   "nbconvert_exporter": "python",
   "pygments_lexer": "ipython3",
   "version": "3.10.11"
  }
 },
 "nbformat": 4,
 "nbformat_minor": 2
}
